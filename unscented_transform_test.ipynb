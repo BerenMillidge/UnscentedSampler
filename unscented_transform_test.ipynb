{
  "nbformat": 4,
  "nbformat_minor": 0,
  "metadata": {
    "colab": {
      "name": "unscented_transform_torch.ipynb",
      "provenance": [],
      "collapsed_sections": []
    },
    "kernelspec": {
      "name": "python3",
      "display_name": "Python 3"
    }
  },
  "cells": [
    {
      "cell_type": "code",
      "metadata": {
        "id": "UwtNR_FhjRPX",
        "colab_type": "code",
        "colab": {
          "base_uri": "https://localhost:8080/",
          "height": 377
        },
        "outputId": "e7482e0d-e559-4464-80be-52e8ac0e0994"
      },
      "source": [
        "import torch\n",
        "import numpy as np\n",
        "\n",
        "#check cholesky works as intended with some random matrix\n",
        "\n",
        "mat = np.random.normal(0,1,[5,5])\n",
        "mat = np.dot(mat, mat.T)\n",
        "chol_numpy = np.linalg.cholesky(mat)\n",
        "print(chol_numpy)\n",
        "chol_torch = torch.cholesky(torch.tensor(mat))\n",
        "print(chol_torch)\n",
        "chol_torch_numpy = chol_torch.numpy()\n",
        "print(chol_torch_numpy==chol_numpy)\n",
        "print(torch.t(chol_torch))\n",
        "#okay, so for all intents and purposes they are the same, minus some numerical matters!"
      ],
      "execution_count": null,
      "outputs": [
        {
          "output_type": "stream",
          "text": [
            "[[ 2.65105209  0.          0.          0.          0.        ]\n",
            " [-0.08286265  2.57499571  0.          0.          0.        ]\n",
            " [ 0.82753411  1.19137239  1.40638461  0.          0.        ]\n",
            " [ 0.48376595 -1.07474231  0.94137085  0.76101544  0.        ]\n",
            " [ 1.33800368 -0.85891361  0.23952361  1.57026559  0.95257107]]\n",
            "tensor([[ 2.6511,  0.0000,  0.0000,  0.0000,  0.0000],\n",
            "        [-0.0829,  2.5750,  0.0000,  0.0000,  0.0000],\n",
            "        [ 0.8275,  1.1914,  1.4064,  0.0000,  0.0000],\n",
            "        [ 0.4838, -1.0747,  0.9414,  0.7610,  0.0000],\n",
            "        [ 1.3380, -0.8589,  0.2395,  1.5703,  0.9526]], dtype=torch.float64)\n",
            "[[ True  True  True  True  True]\n",
            " [ True  True  True  True  True]\n",
            " [ True  True  True  True  True]\n",
            " [ True  True  True False  True]\n",
            " [ True  True  True False False]]\n",
            "tensor([[ 2.6511, -0.0829,  0.8275,  0.4838,  1.3380],\n",
            "        [ 0.0000,  2.5750,  1.1914, -1.0747, -0.8589],\n",
            "        [ 0.0000,  0.0000,  1.4064,  0.9414,  0.2395],\n",
            "        [ 0.0000,  0.0000,  0.0000,  0.7610,  1.5703],\n",
            "        [ 0.0000,  0.0000,  0.0000,  0.0000,  0.9526]], dtype=torch.float64)\n"
          ],
          "name": "stdout"
        }
      ]
    },
    {
      "cell_type": "code",
      "metadata": {
        "id": "-9SsOXTDomRm",
        "colab_type": "code",
        "colab": {
          "base_uri": "https://localhost:8080/",
          "height": 224
        },
        "outputId": "b4a34c2d-dd83-43cd-b947-a292b63e47af"
      },
      "source": [
        "# implement basic unscented transform\n",
        "vec = np.random.normal(0,1,[5,1])\n",
        "print(torch.tensor(vec).squeeze(1).shape)\n",
        "print(vec)\n",
        "print(torch.diag(torch.tensor(vec).squeeze(1)))"
      ],
      "execution_count": null,
      "outputs": [
        {
          "output_type": "stream",
          "text": [
            "torch.Size([5])\n",
            "[[ 0.26573669]\n",
            " [-0.96489474]\n",
            " [-0.43928972]\n",
            " [ 0.97369676]\n",
            " [-0.6375404 ]]\n",
            "tensor([[ 0.2657,  0.0000,  0.0000,  0.0000,  0.0000],\n",
            "        [ 0.0000, -0.9649,  0.0000,  0.0000,  0.0000],\n",
            "        [ 0.0000,  0.0000, -0.4393,  0.0000,  0.0000],\n",
            "        [ 0.0000,  0.0000,  0.0000,  0.9737,  0.0000],\n",
            "        [ 0.0000,  0.0000,  0.0000,  0.0000, -0.6375]], dtype=torch.float64)\n"
          ],
          "name": "stdout"
        }
      ]
    },
    {
      "cell_type": "code",
      "metadata": {
        "id": "TfoKj9lhpedk",
        "colab_type": "code",
        "colab": {
          "base_uri": "https://localhost:8080/",
          "height": 527
        },
        "outputId": "5591d437-7b06-4b7c-ec49-1f83a7b1dbda"
      },
      "source": [
        "#beginning sigma points\n",
        "dim = 2\n",
        "alpha = 0.1\n",
        "beta = 2\n",
        "kappa = 1\n",
        "\n",
        "#compute unscented weights\n",
        "lambda_ = alpha**2 * (dim+kappa) - dim\n",
        "Wc = torch.tensor([1]).new_full([2*dim+1], 1./(2*(dim + lambda_)))\n",
        "Wm = torch.tensor([1]).new_full([2*dim+1], 1./(2*(dim + lambda_)))\n",
        "Wc[0] = lambda_/(dim+lambda_) + 1 - alpha**2 + beta\n",
        "Wm[0] = lambda_/(dim + lambda_)\n",
        "print(Wc)\n",
        "print(Wm)\n",
        "\n",
        "#implement sigma points\n",
        "mu = torch.randn([dim,])\n",
        "var = torch.abs(torch.randn([dim,1]))\n",
        "sigmas = torch.zeros([2*dim+1,dim])\n",
        "#get past covariance #not sure how to change it to log space\n",
        "P = torch.diag(var.squeeze(1))\n",
        "U = torch.t(torch.cholesky(P))\n",
        "print(P)\n",
        "print(U)\n",
        "print(sigmas.shape)\n",
        "print(mu.shape)\n",
        "print(mu) #upper triangular cholesky factorization\n",
        "sigmas[0,:] = mu #the means\n",
        "for k in range(dim):\n",
        "  sigmas[k+1,:] = mu + U[k]\n",
        "  sigmas[dim+k+1,:] = mu - U[k]\n",
        "\n",
        "#newmean\n",
        "print(sigmas)\n",
        "print(Wm.shape)\n",
        "print(sigmas.shape)\n",
        "#do it by hand\n",
        "kmax, n = sigmas.shape\n",
        "new_mu = torch.zeros([2,])\n",
        "print(a.shape)\n",
        "for i in range(kmax):\n",
        "  print(Wm[i].shape)\n",
        "  print(sigmas[i,:].shape)\n",
        "  new_mu += Wm[i] * sigmas[i,:]\n",
        "print(new_mu)\n",
        "\n",
        "new_P = torch.zeros([n,n])\n",
        "for k in range(kmax):\n",
        "  y = sigmas[k,:] - new_mu\n",
        "  new_P += Wc[k] * torch.ger(y,y)\n",
        "print(new_P)\n",
        "#that should obtain the sigma points correctly right\n",
        "#then we just need to get the new mus\n",
        "#no it gives a diagonal covariance apparently... which makes sense\n",
        "#since the initial P is diagonal\n"
      ],
      "execution_count": null,
      "outputs": [
        {
          "output_type": "stream",
          "text": [
            "tensor([-62,  16,  16,  16,  16])\n",
            "tensor([-65,  16,  16,  16,  16])\n",
            "tensor([[1.8416, 0.0000],\n",
            "        [0.0000, 1.1254]])\n",
            "tensor([[1.3570, 0.0000],\n",
            "        [0.0000, 1.0609]])\n",
            "torch.Size([5, 2])\n",
            "torch.Size([2])\n",
            "tensor([ 0.2085, -0.4999])\n",
            "tensor([[ 0.2085, -0.4999],\n",
            "        [ 1.5656, -0.4999],\n",
            "        [ 0.2085,  0.5609],\n",
            "        [-1.1485, -0.4999],\n",
            "        [ 0.2085, -1.5608]])\n",
            "torch.Size([5])\n",
            "torch.Size([5, 2])\n",
            "torch.Size([2])\n",
            "torch.Size([])\n",
            "torch.Size([2])\n",
            "torch.Size([])\n",
            "torch.Size([2])\n",
            "torch.Size([])\n",
            "torch.Size([2])\n",
            "torch.Size([])\n",
            "torch.Size([2])\n",
            "torch.Size([])\n",
            "torch.Size([2])\n",
            "tensor([-0.2085,  0.4999])\n",
            "tensor([[58.9300,  0.0000],\n",
            "        [ 0.0000, 36.0137]])\n"
          ],
          "name": "stdout"
        }
      ]
    }
  ]
}